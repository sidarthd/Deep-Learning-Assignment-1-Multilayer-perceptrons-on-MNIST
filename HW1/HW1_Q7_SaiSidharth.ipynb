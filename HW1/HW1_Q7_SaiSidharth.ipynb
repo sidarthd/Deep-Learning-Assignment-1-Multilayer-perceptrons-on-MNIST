{
  "nbformat": 4,
  "nbformat_minor": 0,
  "metadata": {
    "colab": {
      "name": "HW1-Q7.SaiSidharth.ipynb",
      "version": "0.3.2",
      "provenance": []
    },
    "kernelspec": {
      "name": "python3",
      "display_name": "Python 3"
    }
  },
  "cells": [
    {
      "metadata": {
        "id": "lJsbsy7lGogn",
        "colab_type": "code",
        "colab": {}
      },
      "cell_type": "code",
      "source": [
        "# import libraries\n",
        "import torch\n",
        "import torch.nn as nn\n",
        "import torch.nn.functional as F\n",
        "import torchvision.datasets\n",
        "import torchvision.transforms as transforms\n",
        "import numpy as np\n",
        "import matplotlib.pyplot as plt"
      ],
      "execution_count": 0,
      "outputs": []
    },
    {
      "metadata": {
        "id": "zMePX3G-GvgE",
        "colab_type": "code",
        "colab": {}
      },
      "cell_type": "code",
      "source": [
        "mytransform=transforms.Compose([transforms.Resize((28,28)),transforms.ToTensor(),transforms.Normalize(mean=(0.5,), std=(1.0,))])\n",
        "\n",
        "train_data = torchvision.datasets.MNIST('./data',train=True,download=True,transform=mytransform)\n",
        "data_loader_train = torch.utils.data.DataLoader(train_data,batch_size=200,shuffle=True,num_workers=0)\n",
        "\n",
        "test_data = torchvision.datasets.MNIST('./data',train=False,download=True,transform=mytransform)\n",
        "data_loader_test = torch.utils.data.DataLoader(test_data,batch_size=200,shuffle=True,num_workers=0)"
      ],
      "execution_count": 0,
      "outputs": []
    },
    {
      "metadata": {
        "id": "XM48yU3fGxsg",
        "colab_type": "code",
        "colab": {
          "base_uri": "https://localhost:8080/",
          "height": 119
        },
        "outputId": "84e3ea43-195f-43eb-944a-f172ed031e1b"
      },
      "cell_type": "code",
      "source": [
        "# ref:https://adventuresinmachinelearning.com/pytorch-tutorial-deep-learning/\n",
        "class MNISTNet3(nn.Module):\n",
        "    def __init__(self):\n",
        "        super(MNISTNet3, self).__init__()\n",
        "        self.fc1 = nn.Linear(28 * 28, 33)\n",
        "        self.fc2 = nn.Linear(33, 33)\n",
        "        self.fc3 = nn.Linear(33, 33)\n",
        "        self.fc4 = nn.Linear(33, 10)\n",
        "    def forward(self, x):\n",
        "        x = F.relu(self.fc1(x))\n",
        "        x = F.relu(self.fc2(x))\n",
        "        x = F.relu(self.fc3(x))\n",
        "        x = self.fc4(x)\n",
        "        return F.softmax(x)\n",
        "  \n",
        "net3 = MNISTNet3()\n",
        "print(net3)\n",
        "\n",
        "learning_rate=0.01\n",
        "# create a stochastic gradient descent optimizer\n",
        "optimizer = torch.optim.SGD(net3.parameters(), lr=learning_rate, momentum=0.95, weight_decay = 0.001)\n",
        "# create a loss function\n",
        "criterion = nn.CrossEntropyLoss()"
      ],
      "execution_count": 10,
      "outputs": [
        {
          "output_type": "stream",
          "text": [
            "MNISTNet3(\n",
            "  (fc1): Linear(in_features=784, out_features=33, bias=True)\n",
            "  (fc2): Linear(in_features=33, out_features=33, bias=True)\n",
            "  (fc3): Linear(in_features=33, out_features=33, bias=True)\n",
            "  (fc4): Linear(in_features=33, out_features=10, bias=True)\n",
            ")\n"
          ],
          "name": "stdout"
        }
      ]
    },
    {
      "metadata": {
        "id": "fAExvzlcG3JF",
        "colab_type": "code",
        "colab": {
          "base_uri": "https://localhost:8080/",
          "height": 2111
        },
        "outputId": "b198f030-8e0b-4d54-eb8f-d8500a92c7d1"
      },
      "cell_type": "code",
      "source": [
        "epochs=30\n",
        "# run the main training loop\n",
        "train_loss = np.zeros(epochs)\n",
        "train_acc = np.zeros(epochs)\n",
        "test_loss = np.zeros(epochs)\n",
        "test_acc = np.zeros(epochs)\n",
        "#trining\n",
        "for epoch in range(epochs):\n",
        "    train_correct = 0\n",
        "    for batch_idx, (data, target) in enumerate(data_loader_train):\n",
        "        # resize data from (batch_size, 1, 28, 28) to (batch_size, 28*28)\n",
        "        data = data.view(-1, 28*28)\n",
        "        optimizer.zero_grad()\n",
        "        net_out = net3(data)\n",
        "        loss = criterion(net_out, target)\n",
        "        loss.backward()\n",
        "        optimizer.step()\n",
        "        train_loss[epoch] += loss.item()*data.size(0)\n",
        "        pred = net_out.data.max(1)[1]  # get the index of the max log-probability\n",
        "        train_correct += pred.eq(target.data).sum()\n",
        "    train_acc[epoch]=train_correct.item() / len(data_loader_train.dataset)\n",
        "    train_loss[epoch] = train_loss[epoch]/len(data_loader_train.dataset)\n",
        "    print('Train Epoch: {} [{}/{} ({:.0f}%)]\\tLoss: {:.6f}\\tAccuracy: {}/{} ({:.0f}%)'.format(epoch+1, \n",
        "        (batch_idx+1) * len(data), len(data_loader_train.dataset),100. * batch_idx / len(data_loader_train),\n",
        "        train_loss[epoch],train_correct, len(data_loader_train.dataset),\n",
        "        100. *train_acc[epoch]))\n",
        "\n",
        "    #testing\n",
        "    correct = 0\n",
        "    for data, target in data_loader_test:\n",
        "        data = data.view(-1, 28 * 28)\n",
        "        net_out = net3(data)\n",
        "        # sum up batch loss\n",
        "        test_loss[epoch] += criterion(net_out, target).item()*data.size(0)\n",
        "        pred = net_out.data.max(1)[1]  # get the index of the max log-probability\n",
        "        correct += pred.eq(target.data).sum()\n",
        "\n",
        "    test_loss[epoch] = test_loss[epoch]/ len(data_loader_test.dataset)\n",
        "    test_acc[epoch]=correct.item() / len(data_loader_test.dataset)\n",
        "    print('\\nTest set: Average loss: {:.4f}, Accuracy: {}/{} ({:.0f}%)\\n'.format(\n",
        "            test_loss[epoch], correct, len(data_loader_test.dataset),\n",
        "            100. * test_acc[epoch]))"
      ],
      "execution_count": 11,
      "outputs": [
        {
          "output_type": "stream",
          "text": [
            "/usr/local/lib/python3.6/dist-packages/ipykernel_launcher.py:13: UserWarning: Implicit dimension choice for softmax has been deprecated. Change the call to include dim=X as an argument.\n",
            "  del sys.path[0]\n"
          ],
          "name": "stderr"
        },
        {
          "output_type": "stream",
          "text": [
            "Train Epoch: 1 [60000/60000 (100%)]\tLoss: 2.299995\tAccuracy: 9493/60000 (16%)\n",
            "\n",
            "Test set: Average loss: 2.2945, Accuracy: 2339/10000 (23%)\n",
            "\n",
            "Train Epoch: 2 [60000/60000 (100%)]\tLoss: 2.183828\tAccuracy: 17164/60000 (29%)\n",
            "\n",
            "Test set: Average loss: 1.9516, Accuracy: 5909/10000 (59%)\n",
            "\n",
            "Train Epoch: 3 [60000/60000 (100%)]\tLoss: 1.800565\tAccuracy: 40949/60000 (68%)\n",
            "\n",
            "Test set: Average loss: 1.7037, Accuracy: 7727/10000 (77%)\n",
            "\n",
            "Train Epoch: 4 [60000/60000 (100%)]\tLoss: 1.676993\tAccuracy: 47742/60000 (80%)\n",
            "\n",
            "Test set: Average loss: 1.6541, Accuracy: 8141/10000 (81%)\n",
            "\n",
            "Train Epoch: 5 [60000/60000 (100%)]\tLoss: 1.650296\tAccuracy: 49101/60000 (82%)\n",
            "\n",
            "Test set: Average loss: 1.6347, Accuracy: 8327/10000 (83%)\n",
            "\n",
            "Train Epoch: 6 [60000/60000 (100%)]\tLoss: 1.610888\tAccuracy: 51741/60000 (86%)\n",
            "\n",
            "Test set: Average loss: 1.5807, Accuracy: 8887/10000 (89%)\n",
            "\n",
            "Train Epoch: 7 [60000/60000 (100%)]\tLoss: 1.575712\tAccuracy: 53732/60000 (90%)\n",
            "\n",
            "Test set: Average loss: 1.5644, Accuracy: 9058/10000 (91%)\n",
            "\n",
            "Train Epoch: 8 [60000/60000 (100%)]\tLoss: 1.565457\tAccuracy: 54278/60000 (90%)\n",
            "\n",
            "Test set: Average loss: 1.5562, Accuracy: 9128/10000 (91%)\n",
            "\n",
            "Train Epoch: 9 [60000/60000 (100%)]\tLoss: 1.559548\tAccuracy: 54592/60000 (91%)\n",
            "\n",
            "Test set: Average loss: 1.5612, Accuracy: 9088/10000 (91%)\n",
            "\n",
            "Train Epoch: 10 [60000/60000 (100%)]\tLoss: 1.552167\tAccuracy: 55016/60000 (92%)\n",
            "\n",
            "Test set: Average loss: 1.5472, Accuracy: 9221/10000 (92%)\n",
            "\n",
            "Train Epoch: 11 [60000/60000 (100%)]\tLoss: 1.548464\tAccuracy: 55294/60000 (92%)\n",
            "\n",
            "Test set: Average loss: 1.5526, Accuracy: 9148/10000 (91%)\n",
            "\n",
            "Train Epoch: 12 [60000/60000 (100%)]\tLoss: 1.544700\tAccuracy: 55468/60000 (92%)\n",
            "\n",
            "Test set: Average loss: 1.5455, Accuracy: 9237/10000 (92%)\n",
            "\n",
            "Train Epoch: 13 [60000/60000 (100%)]\tLoss: 1.539829\tAccuracy: 55768/60000 (93%)\n",
            "\n",
            "Test set: Average loss: 1.5384, Accuracy: 9312/10000 (93%)\n",
            "\n",
            "Train Epoch: 14 [60000/60000 (100%)]\tLoss: 1.536258\tAccuracy: 56006/60000 (93%)\n",
            "\n",
            "Test set: Average loss: 1.5413, Accuracy: 9276/10000 (93%)\n",
            "\n",
            "Train Epoch: 15 [60000/60000 (100%)]\tLoss: 1.534287\tAccuracy: 56154/60000 (94%)\n",
            "\n",
            "Test set: Average loss: 1.5350, Accuracy: 9334/10000 (93%)\n",
            "\n",
            "Train Epoch: 16 [60000/60000 (100%)]\tLoss: 1.532447\tAccuracy: 56231/60000 (94%)\n",
            "\n",
            "Test set: Average loss: 1.5338, Accuracy: 9349/10000 (93%)\n",
            "\n",
            "Train Epoch: 17 [60000/60000 (100%)]\tLoss: 1.530151\tAccuracy: 56364/60000 (94%)\n",
            "\n",
            "Test set: Average loss: 1.5315, Accuracy: 9366/10000 (94%)\n",
            "\n",
            "Train Epoch: 18 [60000/60000 (100%)]\tLoss: 1.528272\tAccuracy: 56489/60000 (94%)\n",
            "\n",
            "Test set: Average loss: 1.5294, Accuracy: 9391/10000 (94%)\n",
            "\n",
            "Train Epoch: 19 [60000/60000 (100%)]\tLoss: 1.526379\tAccuracy: 56613/60000 (94%)\n",
            "\n",
            "Test set: Average loss: 1.5301, Accuracy: 9385/10000 (94%)\n",
            "\n",
            "Train Epoch: 20 [60000/60000 (100%)]\tLoss: 1.524818\tAccuracy: 56709/60000 (95%)\n",
            "\n",
            "Test set: Average loss: 1.5299, Accuracy: 9381/10000 (94%)\n",
            "\n",
            "Train Epoch: 21 [60000/60000 (100%)]\tLoss: 1.523463\tAccuracy: 56786/60000 (95%)\n",
            "\n",
            "Test set: Average loss: 1.5282, Accuracy: 9425/10000 (94%)\n",
            "\n",
            "Train Epoch: 22 [60000/60000 (100%)]\tLoss: 1.522453\tAccuracy: 56861/60000 (95%)\n",
            "\n",
            "Test set: Average loss: 1.5305, Accuracy: 9370/10000 (94%)\n",
            "\n",
            "Train Epoch: 23 [60000/60000 (100%)]\tLoss: 1.521311\tAccuracy: 56920/60000 (95%)\n",
            "\n",
            "Test set: Average loss: 1.5247, Accuracy: 9434/10000 (94%)\n",
            "\n",
            "Train Epoch: 24 [60000/60000 (100%)]\tLoss: 1.521539\tAccuracy: 56913/60000 (95%)\n",
            "\n",
            "Test set: Average loss: 1.5239, Accuracy: 9442/10000 (94%)\n",
            "\n",
            "Train Epoch: 25 [60000/60000 (100%)]\tLoss: 1.520739\tAccuracy: 56960/60000 (95%)\n",
            "\n",
            "Test set: Average loss: 1.5235, Accuracy: 9451/10000 (95%)\n",
            "\n",
            "Train Epoch: 26 [60000/60000 (100%)]\tLoss: 1.519967\tAccuracy: 57003/60000 (95%)\n",
            "\n",
            "Test set: Average loss: 1.5219, Accuracy: 9467/10000 (95%)\n",
            "\n",
            "Train Epoch: 27 [60000/60000 (100%)]\tLoss: 1.519983\tAccuracy: 56974/60000 (95%)\n",
            "\n",
            "Test set: Average loss: 1.5222, Accuracy: 9464/10000 (95%)\n",
            "\n",
            "Train Epoch: 28 [60000/60000 (100%)]\tLoss: 1.518026\tAccuracy: 57114/60000 (95%)\n",
            "\n",
            "Test set: Average loss: 1.5210, Accuracy: 9470/10000 (95%)\n",
            "\n",
            "Train Epoch: 29 [60000/60000 (100%)]\tLoss: 1.517650\tAccuracy: 57114/60000 (95%)\n",
            "\n",
            "Test set: Average loss: 1.5219, Accuracy: 9473/10000 (95%)\n",
            "\n",
            "Train Epoch: 30 [60000/60000 (100%)]\tLoss: 1.517496\tAccuracy: 57153/60000 (95%)\n",
            "\n",
            "Test set: Average loss: 1.5227, Accuracy: 9460/10000 (95%)\n",
            "\n"
          ],
          "name": "stdout"
        }
      ]
    },
    {
      "metadata": {
        "id": "pM2O3MRNG6Bu",
        "colab_type": "code",
        "colab": {
          "base_uri": "https://localhost:8080/",
          "height": 573
        },
        "outputId": "58074771-0eac-4e98-aee9-014ddcf29d3c"
      },
      "cell_type": "code",
      "source": [
        "plt.plot(train_loss,markerfacecolor='blue',label=\"Training\")\n",
        "plt.plot(test_loss,markerfacecolor='red',label=\"Test\")\n",
        "plt.xlabel(\"epoch\")\n",
        "plt.ylabel(\"loss\")\n",
        "plt.title(\"Losses v.s. Epochs\")\n",
        "plt.legend()\n",
        "plt.show()\n",
        "plt.plot(train_acc,markerfacecolor='blue',label=\"Training\")\n",
        "plt.plot(test_acc,markerfacecolor='red',label=\"Test\")\n",
        "plt.xlabel(\"epoch\")\n",
        "plt.ylabel(\"accuracy\")\n",
        "plt.title(\"Accuracies v.s. Epochs\")\n",
        "plt.legend()\n",
        "plt.show()"
      ],
      "execution_count": 5,
      "outputs": [
        {
          "output_type": "display_data",
          "data": {
            "image/png": "[encoded data removed]",
            "text/plain": [
              "<Figure size 432x288 with 1 Axes>"
            ]
          },
          "metadata": {
            "tags": []
          }
        },
        {
          "output_type": "display_data",
          "data": {
            "image/png": "[encoded data removed]",
            "text/plain": [
              "<Figure size 432x288 with 1 Axes>"
            ]
          },
          "metadata": {
            "tags": []
          }
        }
      ]
    },
    {
      "metadata": {
        "id": "pyWtFeiOG6zo",
        "colab_type": "code",
        "colab": {}
      },
      "cell_type": "code",
      "source": [
        "from sklearn.linear_model import LogisticRegression\n",
        "#puling entire dataset \n",
        "#mytransform=transforms.Compose([transforms.Resize((28,28)),transforms.ToTensor(),transforms.Normalize(mean=(0.5,), std=(1.0,))])\n",
        "#train_data_logis = torchvision.datasets.MNIST('./data',train=True,download=True,transform=mytransform)\n",
        "#data_loader_train_logis = torch.utils.data.DataLoader(train_data_logis,batch_size=60000,shuffle=True,num_workers=0)\n",
        "#test_data_logis = torchvision.datasets.MNIST('./data',train=False,download=True,transform=mytransform)\n",
        "#data_loader_test_logis = torch.utils.data.DataLoader(test_data_logis,batch_size=10000,shuffle=True,num_workers=0)"
      ],
      "execution_count": 0,
      "outputs": []
    },
    {
      "metadata": {
        "id": "EaCgrq7SG9nF",
        "colab_type": "code",
        "colab": {
          "base_uri": "https://localhost:8080/",
          "height": 153
        },
        "outputId": "5958250e-33ef-483c-9f8e-38ef25ee2cde"
      },
      "cell_type": "code",
      "source": [
        "#fitting\n",
        "for batch_idx, (image, label) in enumerate(data_loader_train):\n",
        "    #print(str(batch_idx))\n",
        "    image = image.view(-1, 28*28)\n",
        "    with torch.no_grad():\n",
        "      fit1=F.relu(net3.fc1(image))\n",
        "      fit2=F.relu(net3.fc2(F.relu(net3.fc1(image))))\n",
        "      fit3=F.relu(net3.fc3(F.relu(net3.fc2(F.relu(net3.fc1(image))))))\n",
        "      \n",
        "    #Input  \n",
        "    image = image.view(-1, 28*28)\n",
        "    logRegInput = LogisticRegression(random_state=0, solver='lbfgs', multi_class='multinomial', max_iter=10, n_jobs=-1).fit(image, label)\n",
        "    scoreAllTrain = logRegInput.score(image, label)\n",
        "    print('Train Accuracy for input layer: '+'{:.4f}'.format(scoreAllTrain*100)+'%')  \n",
        "      \n",
        "    #layer 1\n",
        "    logRegL1 = LogisticRegression(random_state=0, solver='lbfgs', multi_class='multinomial', max_iter=10, n_jobs=-1).fit(fit1, label)\n",
        "    scoreL1Train = logRegL1.score(fit1, label)\n",
        "    print('Train Accuracy for the first layer: '+'{:.4f}'.format(scoreL1Train*100)+'%')\n",
        "    \n",
        "    #layer 2\n",
        "    logRegL2 = LogisticRegression(random_state=0, solver='lbfgs', multi_class='multinomial', max_iter=10, n_jobs=-1).fit(fit2, label)\n",
        "    scoreL2Train = logRegL2.score(fit2, label)\n",
        "    print('Train Accuracy for the second layer: '+'{:.4f}'.format(scoreL2Train*100)+'%')\n",
        "    \n",
        "    #Layer 3\n",
        "    logRegL3 = LogisticRegression(random_state=0, solver='lbfgs', multi_class='multinomial', max_iter=10, n_jobs=-1).fit(fit3, label)\n",
        "    scoreL3Train = logRegL3.score(fit3, label)\n",
        "    print('Train Accuracy for the third layer: '+'{:.4f}'.format(scoreL3Train*100)+'%')  \n",
        "      \n",
        "    \n",
        "    \n",
        "    \n",
        "for batch_idx, (image, label) in enumerate(data_loader_test):\n",
        "    #print(str(batch_idx))\n",
        "    image = image.view(-1, 28*28)\n",
        "    with torch.no_grad():\n",
        "      fit1=F.relu(net3.fc1(image))\n",
        "      fit2=F.relu(net3.fc2(F.relu(net3.fc1(image))))\n",
        "      fit3=F.relu(net3.fc3(F.relu(net3.fc2(F.relu(net3.fc1(image))))))\n",
        "      \n",
        "    #Input  \n",
        "    scoreAllTest = logRegInput.score(image, label)\n",
        "    print('Test Accuracy for input Layer: '+'{:.4f}'.format(scoreAllTest*100)+'%')\n",
        "    \n",
        "    #layer 1\n",
        "    scoreL1Test = logRegL1.score(fit1, label)\n",
        "    print('Test Accuracy for the first layer: '+'{:.4f}'.format(scoreL1Test*100)+'%')\n",
        "    \n",
        "    #layer 2\n",
        "    scoreL2Test = logRegL2.score(fit2, label)\n",
        "    print('Test Accuracy for the second layer: '+'{:.4f}'.format(scoreL2Test*100)+'%')\n",
        "    \n",
        "    #layer 3\n",
        "    scoreL3Test = logRegL3.score(fit3, label)\n",
        "    print('Test Accuracy for the third layer: '+'{:.4f}'.format(scoreL3Test*100)+'%')\n",
        "    "
      ],
      "execution_count": 7,
      "outputs": [
        {
          "output_type": "stream",
          "text": [
            "Train Accuracy for input layer: 84.3283%\n",
            "Train Accuracy for the first layer: 91.7617%\n",
            "Train Accuracy for the second layer: 94.0133%\n",
            "Train Accuracy for the third layer: 94.2983%\n",
            "Test Accuracy for input Layer: 85.2100%\n",
            "Test Accuracy for the first layer: 91.7700%\n",
            "Test Accuracy for the second layer: 93.4800%\n",
            "Test Accuracy for the third layer: 93.8400%\n"
          ],
          "name": "stdout"
        }
      ]
    }
  ]
}