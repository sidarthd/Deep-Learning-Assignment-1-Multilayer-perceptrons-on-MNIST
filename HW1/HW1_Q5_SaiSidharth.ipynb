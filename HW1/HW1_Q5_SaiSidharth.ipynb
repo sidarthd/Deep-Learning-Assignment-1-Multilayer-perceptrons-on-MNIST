{
  "nbformat": 4,
  "nbformat_minor": 0,
  "metadata": {
    "colab": {
      "name": "HW1-Q5_SaiSidharth.ipynb",
      "version": "0.3.2",
      "provenance": [],
      "collapsed_sections": []
    },
    "kernelspec": {
      "name": "python3",
      "display_name": "Python 3"
    }
  },
  "cells": [
    {
      "metadata": {
        "id": "CMh4bi2jtkYL",
        "colab_type": "code",
        "colab": {}
      },
      "cell_type": "code",
      "source": [
        "# import libraries\n",
        "import torch\n",
        "import torch.nn as nn\n",
        "import torch.nn.functional as F\n",
        "import torchvision.datasets\n",
        "import torchvision.transforms as transforms\n",
        "import numpy as np\n",
        "import matplotlib.pyplot as plt"
      ],
      "execution_count": 0,
      "outputs": []
    },
    {
      "metadata": {
        "id": "NKlT-zfBt-nL",
        "colab_type": "code",
        "colab": {}
      },
      "cell_type": "code",
      "source": [
        "mytransform=transforms.Compose([transforms.Resize((28,28)),transforms.ToTensor(),transforms.Normalize(mean=(0.5,), std=(1.0,))])\n",
        "\n",
        "train_data = torchvision.datasets.MNIST('./data',train=True,download=True,transform=mytransform)\n",
        "data_loader_train = torch.utils.data.DataLoader(train_data,batch_size=200,shuffle=True,num_workers=0)\n",
        "\n",
        "test_data = torchvision.datasets.MNIST('./data',train=False,download=True,transform=mytransform)\n",
        "data_loader_test = torch.utils.data.DataLoader(test_data,batch_size=200,shuffle=True,num_workers=0)"
      ],
      "execution_count": 0,
      "outputs": []
    },
    {
      "metadata": {
        "id": "6_BteeQNuBmH",
        "colab_type": "code",
        "outputId": "54bc1116-bd0a-47cf-b17c-df02ab587a7d",
        "colab": {
          "base_uri": "https://localhost:8080/",
          "height": 288
        }
      },
      "cell_type": "code",
      "source": [
        "dataiter = iter(data_loader_test)\n",
        "images, labels = dataiter.next()\n",
        "images = images.numpy()\n",
        "\n",
        "# plot the images in the batch, along with the corresponding labels\n",
        "fig = plt.figure(figsize=(25, 4))\n",
        "for idx in np.arange(20):\n",
        "    ax = fig.add_subplot(2, 20/2, idx+1, xticks=[], yticks=[])\n",
        "    ax.imshow(np.squeeze(images[idx]), cmap='gray')\n",
        "    # print out the correct label for each image\n",
        "    # .item() gets the value contained in a Tensor\n",
        "    ax.set_title(str(labels[idx].item()))"
      ],
      "execution_count": 56,
      "outputs": [
        {
          "output_type": "display_data",
          "data": {
            "image/png": "[encoded data removed]",
            "text/plain": [
              "<Figure size 1800x288 with 20 Axes>"
            ]
          },
          "metadata": {
            "tags": []
          }
        }
      ]
    },
    {
      "metadata": {
        "id": "c487D2FmjmFA",
        "colab_type": "code",
        "colab": {
          "base_uri": "https://localhost:8080/",
          "height": 85
        },
        "outputId": "2e801d77-e6a2-4e60-8ac1-fdb11aaf68e5"
      },
      "cell_type": "code",
      "source": [
        "# ref:https://adventuresinmachinelearning.com/pytorch-tutorial-deep-learning/\n",
        "class MNISTNet(nn.Module):\n",
        "    def __init__(self):\n",
        "        super(MNISTNet, self).__init__()\n",
        "        self.fc1 = nn.Linear(28 * 28, 500)\n",
        "        self.fc2 = nn.Linear(500, 10)\n",
        "      \n",
        "        \n",
        "    def forward(self, x):\n",
        "        x = F.relu(self.fc1(x))\n",
        "        x = F.softmax(self.fc2(x))\n",
        "        return x\n",
        "  \n",
        "net = MNISTNet()\n",
        "print(net)\n",
        "\n",
        "learning_rate=0.01\n",
        "# create a stochastic gradient descent optimizer\n",
        "optimizer = torch.optim.SGD(net.parameters(), lr=learning_rate, momentum=0.95, weight_decay = 0.001)\n",
        "# create a loss function\n",
        "criterion = nn.CrossEntropyLoss()"
      ],
      "execution_count": 57,
      "outputs": [
        {
          "output_type": "stream",
          "text": [
            "MNISTNet(\n",
            "  (fc1): Linear(in_features=784, out_features=500, bias=True)\n",
            "  (fc2): Linear(in_features=500, out_features=10, bias=True)\n",
            ")\n"
          ],
          "name": "stdout"
        }
      ]
    },
    {
      "metadata": {
        "id": "RRVdiyFTuGTO",
        "colab_type": "code",
        "outputId": "37f3c23f-d13c-4522-ef52-a8096d57f21c",
        "colab": {
          "base_uri": "https://localhost:8080/",
          "height": 2111
        }
      },
      "cell_type": "code",
      "source": [
        "epochs=30\n",
        "# run the main training loop\n",
        "train_loss = np.zeros(epochs)\n",
        "train_acc = np.zeros(epochs)\n",
        "test_loss = np.zeros(epochs)\n",
        "test_acc = np.zeros(epochs)\n",
        "#trining\n",
        "for epoch in range(epochs):\n",
        "    train_correct = 0\n",
        "    for batch_idx, (data, target) in enumerate(data_loader_train):\n",
        "        # resize data from (batch_size, 1, 28, 28) to (batch_size, 28*28)\n",
        "        data = data.view(-1, 28*28)\n",
        "        optimizer.zero_grad()\n",
        "        net_out = net(data)\n",
        "        loss = criterion(net_out, target)\n",
        "        loss.backward()\n",
        "        optimizer.step()\n",
        "        train_loss[epoch] += loss.item()*data.size(0)\n",
        "        pred = net_out.data.max(1)[1]  # get the index of the max log-probability\n",
        "        train_correct += pred.eq(target.data).sum()\n",
        "    train_acc[epoch] = train_correct.item() / len(data_loader_train.dataset)\n",
        "    train_loss[epoch] = train_loss[epoch]/len(data_loader_train.dataset)\n",
        "    print('Train Epoch: {} [{}/{} ({:.0f}%)]\\tLoss: {:.6f}\\tAccuracy: {}/{} ({:.0f}%)'.format(epoch+1, \n",
        "        (batch_idx+1) * len(data), len(data_loader_train.dataset),100. * batch_idx / len(data_loader_train),\n",
        "        train_loss[epoch],train_correct, len(data_loader_train.dataset),\n",
        "        100. *train_acc[epoch]))\n",
        "\n",
        "    #testing\n",
        "    correct = 0\n",
        "    for data, target in data_loader_test:\n",
        "        data = data.view(-1, 28 * 28)\n",
        "        net_out = net(data)\n",
        "        # sum up batch loss\n",
        "        test_loss[epoch] += criterion(net_out, target).item()*data.size(0)\n",
        "        pred = net_out.data.max(1)[1]  # get the index of the max log-probability\n",
        "        correct += pred.eq(target.data).sum()\n",
        "\n",
        "    test_loss[epoch] = test_loss[epoch]/ len(data_loader_test.dataset)\n",
        "    test_acc[epoch]=correct.item() / len(data_loader_test.dataset)\n",
        "    print('\\nTest set: Average loss: {:.4f}, Accuracy: {}/{} ({:.0f}%)\\n'.format(\n",
        "            test_loss[epoch], correct, len(data_loader_test.dataset),\n",
        "            100. * test_acc[epoch]))"
      ],
      "execution_count": 58,
      "outputs": [
        {
          "output_type": "stream",
          "text": [
            "/usr/local/lib/python3.6/dist-packages/ipykernel_launcher.py:10: UserWarning: Implicit dimension choice for softmax has been deprecated. Change the call to include dim=X as an argument.\n",
            "  # Remove the CWD from sys.path while we load stuff.\n"
          ],
          "name": "stderr"
        },
        {
          "output_type": "stream",
          "text": [
            "Train Epoch: 1 [60000/60000 (100%)]\tLoss: 2.018428\tAccuracy: 29095/60000 (48%)\n",
            "\n",
            "Test set: Average loss: 1.7146, Accuracy: 8014/10000 (80%)\n",
            "\n",
            "Train Epoch: 2 [60000/60000 (100%)]\tLoss: 1.678333\tAccuracy: 48992/60000 (82%)\n",
            "\n",
            "Test set: Average loss: 1.6495, Accuracy: 8370/10000 (84%)\n",
            "\n",
            "Train Epoch: 3 [60000/60000 (100%)]\tLoss: 1.649426\tAccuracy: 49865/60000 (83%)\n",
            "\n",
            "Test set: Average loss: 1.6380, Accuracy: 8412/10000 (84%)\n",
            "\n",
            "Train Epoch: 4 [60000/60000 (100%)]\tLoss: 1.639884\tAccuracy: 50256/60000 (84%)\n",
            "\n",
            "Test set: Average loss: 1.6303, Accuracy: 8458/10000 (85%)\n",
            "\n",
            "Train Epoch: 5 [60000/60000 (100%)]\tLoss: 1.633164\tAccuracy: 50604/60000 (84%)\n",
            "\n",
            "Test set: Average loss: 1.6132, Accuracy: 8768/10000 (88%)\n",
            "\n",
            "Train Epoch: 6 [60000/60000 (100%)]\tLoss: 1.589306\tAccuracy: 54000/60000 (90%)\n",
            "\n",
            "Test set: Average loss: 1.5741, Accuracy: 9097/10000 (91%)\n",
            "\n",
            "Train Epoch: 7 [60000/60000 (100%)]\tLoss: 1.573248\tAccuracy: 54624/60000 (91%)\n",
            "\n",
            "Test set: Average loss: 1.5650, Accuracy: 9161/10000 (92%)\n",
            "\n",
            "Train Epoch: 8 [60000/60000 (100%)]\tLoss: 1.567198\tAccuracy: 54850/60000 (91%)\n",
            "\n",
            "Test set: Average loss: 1.5616, Accuracy: 9177/10000 (92%)\n",
            "\n",
            "Train Epoch: 9 [60000/60000 (100%)]\tLoss: 1.563338\tAccuracy: 55036/60000 (92%)\n",
            "\n",
            "Test set: Average loss: 1.5578, Accuracy: 9206/10000 (92%)\n",
            "\n",
            "Train Epoch: 10 [60000/60000 (100%)]\tLoss: 1.560457\tAccuracy: 55207/60000 (92%)\n",
            "\n",
            "Test set: Average loss: 1.5551, Accuracy: 9250/10000 (92%)\n",
            "\n",
            "Train Epoch: 11 [60000/60000 (100%)]\tLoss: 1.558431\tAccuracy: 55301/60000 (92%)\n",
            "\n",
            "Test set: Average loss: 1.5547, Accuracy: 9244/10000 (92%)\n",
            "\n",
            "Train Epoch: 12 [60000/60000 (100%)]\tLoss: 1.555758\tAccuracy: 55489/60000 (92%)\n",
            "\n",
            "Test set: Average loss: 1.5536, Accuracy: 9246/10000 (92%)\n",
            "\n",
            "Train Epoch: 13 [60000/60000 (100%)]\tLoss: 1.554182\tAccuracy: 55505/60000 (93%)\n",
            "\n",
            "Test set: Average loss: 1.5501, Accuracy: 9289/10000 (93%)\n",
            "\n",
            "Train Epoch: 14 [60000/60000 (100%)]\tLoss: 1.552409\tAccuracy: 55644/60000 (93%)\n",
            "\n",
            "Test set: Average loss: 1.5493, Accuracy: 9300/10000 (93%)\n",
            "\n",
            "Train Epoch: 15 [60000/60000 (100%)]\tLoss: 1.550873\tAccuracy: 55747/60000 (93%)\n",
            "\n",
            "Test set: Average loss: 1.5482, Accuracy: 9290/10000 (93%)\n",
            "\n",
            "Train Epoch: 16 [60000/60000 (100%)]\tLoss: 1.549183\tAccuracy: 55857/60000 (93%)\n",
            "\n",
            "Test set: Average loss: 1.5465, Accuracy: 9316/10000 (93%)\n",
            "\n",
            "Train Epoch: 17 [60000/60000 (100%)]\tLoss: 1.547511\tAccuracy: 55945/60000 (93%)\n",
            "\n",
            "Test set: Average loss: 1.5452, Accuracy: 9338/10000 (93%)\n",
            "\n",
            "Train Epoch: 18 [60000/60000 (100%)]\tLoss: 1.546325\tAccuracy: 56047/60000 (93%)\n",
            "\n",
            "Test set: Average loss: 1.5442, Accuracy: 9337/10000 (93%)\n",
            "\n",
            "Train Epoch: 19 [60000/60000 (100%)]\tLoss: 1.544800\tAccuracy: 56166/60000 (94%)\n",
            "\n",
            "Test set: Average loss: 1.5449, Accuracy: 9338/10000 (93%)\n",
            "\n",
            "Train Epoch: 20 [60000/60000 (100%)]\tLoss: 1.543824\tAccuracy: 56209/60000 (94%)\n",
            "\n",
            "Test set: Average loss: 1.5418, Accuracy: 9380/10000 (94%)\n",
            "\n",
            "Train Epoch: 21 [60000/60000 (100%)]\tLoss: 1.542472\tAccuracy: 56299/60000 (94%)\n",
            "\n",
            "Test set: Average loss: 1.5411, Accuracy: 9394/10000 (94%)\n",
            "\n",
            "Train Epoch: 22 [60000/60000 (100%)]\tLoss: 1.541550\tAccuracy: 56372/60000 (94%)\n",
            "\n",
            "Test set: Average loss: 1.5393, Accuracy: 9409/10000 (94%)\n",
            "\n",
            "Train Epoch: 23 [60000/60000 (100%)]\tLoss: 1.540151\tAccuracy: 56464/60000 (94%)\n",
            "\n",
            "Test set: Average loss: 1.5393, Accuracy: 9388/10000 (94%)\n",
            "\n",
            "Train Epoch: 24 [60000/60000 (100%)]\tLoss: 1.539232\tAccuracy: 56468/60000 (94%)\n",
            "\n",
            "Test set: Average loss: 1.5378, Accuracy: 9421/10000 (94%)\n",
            "\n",
            "Train Epoch: 25 [60000/60000 (100%)]\tLoss: 1.538225\tAccuracy: 56574/60000 (94%)\n",
            "\n",
            "Test set: Average loss: 1.5371, Accuracy: 9417/10000 (94%)\n",
            "\n",
            "Train Epoch: 26 [60000/60000 (100%)]\tLoss: 1.537511\tAccuracy: 56622/60000 (94%)\n",
            "\n",
            "Test set: Average loss: 1.5364, Accuracy: 9422/10000 (94%)\n",
            "\n",
            "Train Epoch: 27 [60000/60000 (100%)]\tLoss: 1.536251\tAccuracy: 56681/60000 (94%)\n",
            "\n",
            "Test set: Average loss: 1.5355, Accuracy: 9435/10000 (94%)\n",
            "\n",
            "Train Epoch: 28 [60000/60000 (100%)]\tLoss: 1.535499\tAccuracy: 56742/60000 (95%)\n",
            "\n",
            "Test set: Average loss: 1.5364, Accuracy: 9431/10000 (94%)\n",
            "\n",
            "Train Epoch: 29 [60000/60000 (100%)]\tLoss: 1.534631\tAccuracy: 56786/60000 (95%)\n",
            "\n",
            "Test set: Average loss: 1.5338, Accuracy: 9467/10000 (95%)\n",
            "\n",
            "Train Epoch: 30 [60000/60000 (100%)]\tLoss: 1.533896\tAccuracy: 56836/60000 (95%)\n",
            "\n",
            "Test set: Average loss: 1.5335, Accuracy: 9461/10000 (95%)\n",
            "\n"
          ],
          "name": "stdout"
        }
      ]
    },
    {
      "metadata": {
        "id": "8wn_1rCbuHYM",
        "colab_type": "code",
        "outputId": "b357cbe9-3daf-40dd-935c-e213a61be993",
        "colab": {
          "base_uri": "https://localhost:8080/",
          "height": 573
        }
      },
      "cell_type": "code",
      "source": [
        "plt.plot(train_loss,markerfacecolor='blue',label=\"Training\")\n",
        "plt.plot(test_loss,markerfacecolor='red',label=\"Test\")\n",
        "plt.xlabel(\"epoch\")\n",
        "plt.ylabel(\"loss\")\n",
        "plt.title(\"Losses v.s. Epochs\")\n",
        "plt.legend()\n",
        "plt.show()\n",
        "plt.plot(train_acc,markerfacecolor='blue',label=\"Training\")\n",
        "plt.plot(test_acc,markerfacecolor='red',label=\"Test\")\n",
        "plt.xlabel(\"epoch\")\n",
        "plt.ylabel(\"accuracy\")\n",
        "plt.title(\"Accuracies v.s. Epochs\")\n",
        "plt.legend()\n",
        "plt.show()\n"
      ],
      "execution_count": 53,
      "outputs": [
        {
          "output_type": "display_data",
          "data": {
            "image/png": "[encoded data removed]",
            "text/plain": [
              "<Figure size 432x288 with 1 Axes>"
            ]
          },
          "metadata": {
            "tags": []
          }
        },
        {
          "output_type": "display_data",
          "data": {
            "image/png": "[encoded data removed]",
            "text/plain": [
              "<Figure size 432x288 with 1 Axes>"
            ]
          },
          "metadata": {
            "tags": []
          }
        }
      ]
    },
    {
      "metadata": {
        "id": "J6KhLDc_uMuT",
        "colab_type": "code",
        "colab": {}
      },
      "cell_type": "code",
      "source": [
        "#testing\n",
        "mytransform=transforms.Compose([transforms.Resize((28,28)),transforms.ToTensor(),transforms.Normalize(mean=(0.5,), std=(1.0,))])\n",
        "test_data_pic = torchvision.datasets.MNIST('./data',train=False,download=True,transform=mytransform)\n",
        "data_loader_test_pic = torch.utils.data.DataLoader(test_data_pic,batch_size=1,shuffle=True,num_workers=0)\n",
        "\n",
        "img_loss = np.zeros(len(data_loader_test.dataset))\n",
        "images=[]\n",
        "labels=np.zeros(len(data_loader_test.dataset))\n",
        "index=0\n",
        "correct = 0\n",
        "for data, target in data_loader_test_pic:\n",
        "    images.append(np.asarray(data.numpy()))\n",
        "    data = data.view(-1, 28 * 28)\n",
        "    net_out = net(data)\n",
        "    img_loss[index] = criterion(net_out, target)\n",
        "    labels[index] = target\n",
        "    index+=1"
      ],
      "execution_count": 0,
      "outputs": []
    },
    {
      "metadata": {
        "id": "okfiQ8RbuQWo",
        "colab_type": "code",
        "colab": {}
      },
      "cell_type": "code",
      "source": [
        "#images=np.vstack(images)\n",
        "fig = plt.figure(figsize=(25, 4))\n",
        "index = 0\n",
        "img_loss_o=img_loss.argsort()[-10:][::-1]\n",
        "print(str(images.count)) \n",
        "for idx in np.nditer(img_loss_o):\n",
        "    index+=1\n",
        "    ax = fig.add_subplot(2, 20/2, 11-index, xticks=[], yticks=[])\n",
        "    ax.imshow(np.squeeze(images[idx][0]), cmap='gray')\n",
        "    ax.set_title(str(labels[idx])+' loss: {:.5f}'.format(img_loss[idx],idx))\n",
        "img_loss_o=img_loss.argsort()[:10]\n",
        "index = 0\n",
        "for idx in np.nditer(img_loss_o):\n",
        "    index+=1\n",
        "    ax = fig.add_subplot(2, 20/2, 21-index, xticks=[], yticks=[])\n",
        "    ax.imshow(np.squeeze(images[idx][0]), cmap='gray')\n",
        "    ax.set_title(str(labels[idx])+' loss: {:.5f}'.format(img_loss[idx],idx))"
      ],
      "execution_count": 0,
      "outputs": []
    }
  ]
}