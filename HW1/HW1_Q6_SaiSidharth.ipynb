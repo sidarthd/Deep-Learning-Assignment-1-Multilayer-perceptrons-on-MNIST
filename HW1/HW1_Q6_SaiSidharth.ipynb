{
  "nbformat": 4,
  "nbformat_minor": 0,
  "metadata": {
    "colab": {
      "name": "HW1-Q6.SaiSidharth.ipynb",
      "version": "0.3.2",
      "provenance": [],
      "collapsed_sections": []
    },
    "kernelspec": {
      "name": "python3",
      "display_name": "Python 3"
    }
  },
  "cells": [
    {
      "metadata": {
        "id": "AzWnqTt0L0Bl",
        "colab_type": "code",
        "colab": {}
      },
      "cell_type": "code",
      "source": [
        "# import libraries\n",
        "import torch\n",
        "import torch.nn as nn\n",
        "import torch.nn.functional as F\n",
        "import torchvision.datasets\n",
        "import torchvision.transforms as transforms\n",
        "import numpy as np\n",
        "import matplotlib.pyplot as plt"
      ],
      "execution_count": 0,
      "outputs": []
    },
    {
      "metadata": {
        "id": "goJ0EUOgNw30",
        "colab_type": "code",
        "colab": {}
      },
      "cell_type": "code",
      "source": [
        "mytransform=transforms.Compose([transforms.Resize((28,28)),transforms.ToTensor(),transforms.Normalize(mean=(0.5,), std=(1.0,))])\n",
        "\n",
        "train_data = torchvision.datasets.MNIST('./data',train=True,download=True,transform=mytransform)\n",
        "data_loader_train = torch.utils.data.DataLoader(train_data,batch_size=200,shuffle=True,num_workers=0)\n",
        "\n",
        "test_data = torchvision.datasets.MNIST('./data',train=False,download=True,transform=mytransform)\n",
        "data_loader_test = torch.utils.data.DataLoader(test_data,batch_size=200,shuffle=True,num_workers=0)"
      ],
      "execution_count": 0,
      "outputs": []
    },
    {
      "metadata": {
        "id": "lAQIGMRtN0l_",
        "colab_type": "code",
        "outputId": "68c48f93-d229-4f45-9380-5c21c77140b0",
        "colab": {
          "base_uri": "https://localhost:8080/",
          "height": 288
        }
      },
      "cell_type": "code",
      "source": [
        "dataiter = iter(data_loader_test)\n",
        "images, labels = dataiter.next()\n",
        "images = images.numpy()\n",
        "\n",
        "# plot the images in the batch, along with the corresponding labels\n",
        "fig = plt.figure(figsize=(25, 4))\n",
        "for idx in np.arange(20):\n",
        "    ax = fig.add_subplot(2, 20/2, idx+1, xticks=[], yticks=[])\n",
        "    ax.imshow(np.squeeze(images[idx]), cmap='gray')\n",
        "    # print out the correct label for each image\n",
        "    # .item() gets the value contained in a Tensor\n",
        "    ax.set_title(str(labels[idx].item()))"
      ],
      "execution_count": 58,
      "outputs": [
        {
          "output_type": "display_data",
          "data": {
            "image/png": "[encoded data removed]",
            "text/plain": [
              "<Figure size 1800x288 with 20 Axes>"
            ]
          },
          "metadata": {
            "tags": []
          }
        }
      ]
    },
    {
      "metadata": {
        "id": "1rc5h2oZjo5_",
        "colab_type": "code",
        "colab": {
          "base_uri": "https://localhost:8080/",
          "height": 68
        },
        "outputId": "cdf61bcd-96a7-49ac-9058-03331889d09a"
      },
      "cell_type": "code",
      "source": [
        "# ref:https://adventuresinmachinelearning.com/pytorch-tutorial-deep-learning/\n",
        "class MNISTNet(nn.Module):\n",
        "    def __init__(self):\n",
        "        super(MNISTNet, self).__init__()\n",
        "        self.fc1 = nn.Linear(28 * 28, 10)\n",
        "        #self.fc2 = nn.Linear(25, 25)\n",
        "        #self.fc3 = nn.Linear(25, 25)\n",
        "        #self.fc4 = nn.Linear(25, 25)\n",
        "        #self.fc5 = nn.Linear(25, 10)\n",
        "    \n",
        "    def forward(self, x):\n",
        "        #x = F.relu(self.fc1(x))\n",
        "        #x = F.relu(self.fc2(x))\n",
        "        #x = F.relu(self.fc3(x))\n",
        "        #x = F.relu(self.fc4(x))\n",
        "        x = F.softmax(self.fc1(x))\n",
        "       \n",
        "        return x\n",
        "  \n",
        "net = MNISTNet()\n",
        "print(net)\n",
        "\n",
        "learning_rate=0.01\n",
        "# create a stochastic gradient descent optimizer\n",
        "optimizer = torch.optim.SGD(net.parameters(), lr=learning_rate, momentum=0.95, weight_decay = 0.001)\n",
        "# create a loss function\n",
        "criterion = nn.CrossEntropyLoss()"
      ],
      "execution_count": 61,
      "outputs": [
        {
          "output_type": "stream",
          "text": [
            "MNISTNet(\n",
            "  (fc1): Linear(in_features=784, out_features=10, bias=True)\n",
            ")\n"
          ],
          "name": "stdout"
        }
      ]
    },
    {
      "metadata": {
        "id": "sTAcs_mOjsr8",
        "colab_type": "code",
        "outputId": "61865421-6876-4942-b34e-2a0bfb663644",
        "colab": {
          "base_uri": "https://localhost:8080/",
          "height": 2111
        }
      },
      "cell_type": "code",
      "source": [
        "epochs=30\n",
        "# run the main training loop\n",
        "train_loss = np.zeros(epochs)\n",
        "train_acc = np.zeros(epochs)\n",
        "test_loss = np.zeros(epochs)\n",
        "test_acc = np.zeros(epochs)\n",
        "#trining\n",
        "for epoch in range(epochs):\n",
        "    train_correct = 0\n",
        "    for batch_idx, (data, target) in enumerate(data_loader_train):\n",
        "        # resize data from (batch_size, 1, 28, 28) to (batch_size, 28*28)\n",
        "        data = data.view(-1, 28*28)\n",
        "        optimizer.zero_grad()\n",
        "        net_out = net(data)\n",
        "        loss = criterion(net_out, target)\n",
        "        loss.backward()\n",
        "        optimizer.step()\n",
        "        train_loss[epoch] += loss.item()*data.size(0)\n",
        "        pred = net_out.data.max(1)[1]  # get the index of the max log-probability\n",
        "        train_correct += pred.eq(target.data).sum()\n",
        "    \n",
        "    train_acc[epoch] = train_correct.item() / len(data_loader_train.dataset)\n",
        "    train_loss[epoch] = train_loss[epoch]/len(data_loader_train.dataset)\n",
        "    \n",
        "    print('Train Epoch: {} [{}/{} ({:.0f}%)]\\tLoss: {:.6f}\\tAccuracy: {}/{} ({:.0f}%)'.format(epoch+1, \n",
        "        (batch_idx+1) * len(data), len(data_loader_train.dataset),100. * batch_idx / len(data_loader_train),\n",
        "        train_loss[epoch],train_correct, len(data_loader_train.dataset),\n",
        "        100. *train_acc[epoch]))\n",
        "\n",
        "    #testing\n",
        "    correct = 0\n",
        "    for data, target in data_loader_test:\n",
        "        data = data.view(-1, 28 * 28)\n",
        "        net_out = net(data)\n",
        "        # sum up batch loss\n",
        "        test_loss[epoch] += criterion(net_out, target).item()*data.size(0)\n",
        "        pred = net_out.data.max(1)[1]  # get the index of the max log-probability\n",
        "        correct += pred.eq(target.data).sum()\n",
        "\n",
        "    test_loss[epoch] = test_loss[epoch]/ len(data_loader_test.dataset)\n",
        "    test_acc[epoch]=correct.item() / len(data_loader_test.dataset)\n",
        "    \n",
        "    print('\\nTest set: Average loss: {:.4f}, Accuracy: {}/{} ({:.0f}%)\\n'.format(\n",
        "            test_loss[epoch], correct, len(data_loader_test.dataset),\n",
        "            100. * test_acc[epoch]))"
      ],
      "execution_count": 62,
      "outputs": [
        {
          "output_type": "stream",
          "text": [
            "/usr/local/lib/python3.6/dist-packages/ipykernel_launcher.py:15: UserWarning: Implicit dimension choice for softmax has been deprecated. Change the call to include dim=X as an argument.\n",
            "  from ipykernel import kernelapp as app\n"
          ],
          "name": "stderr"
        },
        {
          "output_type": "stream",
          "text": [
            "Train Epoch: 1 [60000/60000 (100%)]\tLoss: 1.937228\tAccuracy: 34949/60000 (58%)\n",
            "\n",
            "Test set: Average loss: 1.7735, Accuracy: 7381/10000 (74%)\n",
            "\n",
            "Train Epoch: 2 [60000/60000 (100%)]\tLoss: 1.761179\tAccuracy: 44288/60000 (74%)\n",
            "\n",
            "Test set: Average loss: 1.7446, Accuracy: 7482/10000 (75%)\n",
            "\n",
            "Train Epoch: 3 [60000/60000 (100%)]\tLoss: 1.743913\tAccuracy: 44705/60000 (75%)\n",
            "\n",
            "Test set: Average loss: 1.7341, Accuracy: 7525/10000 (75%)\n",
            "\n",
            "Train Epoch: 4 [60000/60000 (100%)]\tLoss: 1.736037\tAccuracy: 44945/60000 (75%)\n",
            "\n",
            "Test set: Average loss: 1.7282, Accuracy: 7562/10000 (76%)\n",
            "\n",
            "Train Epoch: 5 [60000/60000 (100%)]\tLoss: 1.706186\tAccuracy: 47666/60000 (79%)\n",
            "\n",
            "Test set: Average loss: 1.6721, Accuracy: 8324/10000 (83%)\n",
            "\n",
            "Train Epoch: 6 [60000/60000 (100%)]\tLoss: 1.674004\tAccuracy: 49578/60000 (83%)\n",
            "\n",
            "Test set: Average loss: 1.6610, Accuracy: 8360/10000 (84%)\n",
            "\n",
            "Train Epoch: 7 [60000/60000 (100%)]\tLoss: 1.663487\tAccuracy: 50124/60000 (84%)\n",
            "\n",
            "Test set: Average loss: 1.6430, Accuracy: 8630/10000 (86%)\n",
            "\n",
            "Train Epoch: 8 [60000/60000 (100%)]\tLoss: 1.631552\tAccuracy: 52664/60000 (88%)\n",
            "\n",
            "Test set: Average loss: 1.6103, Accuracy: 8980/10000 (90%)\n",
            "\n",
            "Train Epoch: 9 [60000/60000 (100%)]\tLoss: 1.613442\tAccuracy: 53635/60000 (89%)\n",
            "\n",
            "Test set: Average loss: 1.6020, Accuracy: 9030/10000 (90%)\n",
            "\n",
            "Train Epoch: 10 [60000/60000 (100%)]\tLoss: 1.607081\tAccuracy: 53847/60000 (90%)\n",
            "\n",
            "Test set: Average loss: 1.5970, Accuracy: 9061/10000 (91%)\n",
            "\n",
            "Train Epoch: 11 [60000/60000 (100%)]\tLoss: 1.603432\tAccuracy: 53942/60000 (90%)\n",
            "\n",
            "Test set: Average loss: 1.5943, Accuracy: 9064/10000 (91%)\n",
            "\n",
            "Train Epoch: 12 [60000/60000 (100%)]\tLoss: 1.600736\tAccuracy: 54067/60000 (90%)\n",
            "\n",
            "Test set: Average loss: 1.5923, Accuracy: 9083/10000 (91%)\n",
            "\n",
            "Train Epoch: 13 [60000/60000 (100%)]\tLoss: 1.598868\tAccuracy: 54156/60000 (90%)\n",
            "\n",
            "Test set: Average loss: 1.5903, Accuracy: 9077/10000 (91%)\n",
            "\n",
            "Train Epoch: 14 [60000/60000 (100%)]\tLoss: 1.597286\tAccuracy: 54179/60000 (90%)\n",
            "\n",
            "Test set: Average loss: 1.5895, Accuracy: 9104/10000 (91%)\n",
            "\n",
            "Train Epoch: 15 [60000/60000 (100%)]\tLoss: 1.596157\tAccuracy: 54262/60000 (90%)\n",
            "\n",
            "Test set: Average loss: 1.5885, Accuracy: 9104/10000 (91%)\n",
            "\n",
            "Train Epoch: 16 [60000/60000 (100%)]\tLoss: 1.595209\tAccuracy: 54289/60000 (90%)\n",
            "\n",
            "Test set: Average loss: 1.5877, Accuracy: 9108/10000 (91%)\n",
            "\n",
            "Train Epoch: 17 [60000/60000 (100%)]\tLoss: 1.594491\tAccuracy: 54330/60000 (91%)\n",
            "\n",
            "Test set: Average loss: 1.5872, Accuracy: 9102/10000 (91%)\n",
            "\n",
            "Train Epoch: 18 [60000/60000 (100%)]\tLoss: 1.594019\tAccuracy: 54311/60000 (91%)\n",
            "\n",
            "Test set: Average loss: 1.5874, Accuracy: 9107/10000 (91%)\n",
            "\n",
            "Train Epoch: 19 [60000/60000 (100%)]\tLoss: 1.593283\tAccuracy: 54380/60000 (91%)\n",
            "\n",
            "Test set: Average loss: 1.5862, Accuracy: 9114/10000 (91%)\n",
            "\n",
            "Train Epoch: 20 [60000/60000 (100%)]\tLoss: 1.593021\tAccuracy: 54392/60000 (91%)\n",
            "\n",
            "Test set: Average loss: 1.5857, Accuracy: 9112/10000 (91%)\n",
            "\n",
            "Train Epoch: 21 [60000/60000 (100%)]\tLoss: 1.592531\tAccuracy: 54409/60000 (91%)\n",
            "\n",
            "Test set: Average loss: 1.5856, Accuracy: 9125/10000 (91%)\n",
            "\n",
            "Train Epoch: 22 [60000/60000 (100%)]\tLoss: 1.592233\tAccuracy: 54403/60000 (91%)\n",
            "\n",
            "Test set: Average loss: 1.5852, Accuracy: 9123/10000 (91%)\n",
            "\n",
            "Train Epoch: 23 [60000/60000 (100%)]\tLoss: 1.591944\tAccuracy: 54460/60000 (91%)\n",
            "\n",
            "Test set: Average loss: 1.5848, Accuracy: 9119/10000 (91%)\n",
            "\n",
            "Train Epoch: 24 [60000/60000 (100%)]\tLoss: 1.591680\tAccuracy: 54438/60000 (91%)\n",
            "\n",
            "Test set: Average loss: 1.5848, Accuracy: 9124/10000 (91%)\n",
            "\n",
            "Train Epoch: 25 [60000/60000 (100%)]\tLoss: 1.591426\tAccuracy: 54471/60000 (91%)\n",
            "\n",
            "Test set: Average loss: 1.5852, Accuracy: 9123/10000 (91%)\n",
            "\n",
            "Train Epoch: 26 [60000/60000 (100%)]\tLoss: 1.591453\tAccuracy: 54459/60000 (91%)\n",
            "\n",
            "Test set: Average loss: 1.5847, Accuracy: 9121/10000 (91%)\n",
            "\n",
            "Train Epoch: 27 [60000/60000 (100%)]\tLoss: 1.591121\tAccuracy: 54464/60000 (91%)\n",
            "\n",
            "Test set: Average loss: 1.5845, Accuracy: 9132/10000 (91%)\n",
            "\n",
            "Train Epoch: 28 [60000/60000 (100%)]\tLoss: 1.590989\tAccuracy: 54493/60000 (91%)\n",
            "\n",
            "Test set: Average loss: 1.5842, Accuracy: 9134/10000 (91%)\n",
            "\n",
            "Train Epoch: 29 [60000/60000 (100%)]\tLoss: 1.591026\tAccuracy: 54479/60000 (91%)\n",
            "\n",
            "Test set: Average loss: 1.5844, Accuracy: 9132/10000 (91%)\n",
            "\n",
            "Train Epoch: 30 [60000/60000 (100%)]\tLoss: 1.590783\tAccuracy: 54547/60000 (91%)\n",
            "\n",
            "Test set: Average loss: 1.5840, Accuracy: 9123/10000 (91%)\n",
            "\n"
          ],
          "name": "stdout"
        }
      ]
    },
    {
      "metadata": {
        "id": "sL7krQtKj8Wr",
        "colab_type": "code",
        "outputId": "ac6224bc-15db-4ec6-e049-40bc49afd824",
        "colab": {
          "base_uri": "https://localhost:8080/",
          "height": 573
        }
      },
      "cell_type": "code",
      "source": [
        "plt.plot(train_loss,markerfacecolor='blue',label=\"Training\")\n",
        "plt.plot(test_loss,markerfacecolor='red',label=\"Test\")\n",
        "plt.xlabel(\"epoch\")\n",
        "plt.ylabel(\"loss\")\n",
        "plt.title(\"Losses v.s. Epochs\")\n",
        "plt.legend()\n",
        "plt.show()\n",
        "plt.plot(train_acc,markerfacecolor='blue',label=\"Training\")\n",
        "plt.plot(test_acc,markerfacecolor='red',label=\"Test\")\n",
        "plt.xlabel(\"epoch\")\n",
        "plt.ylabel(\"accuracy\")\n",
        "plt.title(\"Accuracies v.s. Epochs\")\n",
        "plt.legend()\n",
        "plt.show()\n"
      ],
      "execution_count": 63,
      "outputs": [
        {
          "output_type": "display_data",
          "data": {
            "image/png": "[encoded data removed]",
            "text/plain": [
              "<Figure size 432x288 with 1 Axes>"
            ]
          },
          "metadata": {
            "tags": []
          }
        },
        {
          "output_type": "display_data",
          "data": {
            "image/png": "[encoded data removed]",
            "text/plain": [
              "<Figure size 432x288 with 1 Axes>"
            ]
          },
          "metadata": {
            "tags": []
          }
        }
      ]
    },
    {
      "metadata": {
        "id": "4FA0kYcpj_a5",
        "colab_type": "code",
        "outputId": "0cfa6a90-7317-44d1-e0ef-0e8f52b4ffec",
        "colab": {
          "base_uri": "https://localhost:8080/",
          "height": 71
        }
      },
      "cell_type": "code",
      "source": [
        "#testing\n",
        "mytransform=transforms.Compose([transforms.Resize((28,28)),transforms.ToTensor(),transforms.Normalize(mean=(0.5,), std=(1.0,))])\n",
        "test_data_pic = torchvision.datasets.MNIST('./data',train=False,download=True,transform=mytransform)\n",
        "data_loader_test_pic = torch.utils.data.DataLoader(test_data_pic,batch_size=1,shuffle=True,num_workers=0)\n",
        "\n",
        "img_loss = np.zeros(len(data_loader_test.dataset))\n",
        "images=[]\n",
        "labels=np.zeros(len(data_loader_test.dataset))\n",
        "index=0\n",
        "correct = 0\n",
        "for data, target in data_loader_test_pic:\n",
        "    images.append(np.asarray(data.numpy()))\n",
        "    data = data.view(-1, 28 * 28)\n",
        "    net_out = net(data)\n",
        "    img_loss[index] = criterion(net_out, target)\n",
        "    labels[index] = target\n",
        "    index+=1"
      ],
      "execution_count": 0,
      "outputs": [
        {
          "output_type": "stream",
          "text": [
            "/usr/local/lib/python3.6/dist-packages/ipykernel_launcher.py:15: UserWarning: Implicit dimension choice for softmax has been deprecated. Change the call to include dim=X as an argument.\n",
            "  from ipykernel import kernelapp as app\n"
          ],
          "name": "stderr"
        }
      ]
    }
  ]
}